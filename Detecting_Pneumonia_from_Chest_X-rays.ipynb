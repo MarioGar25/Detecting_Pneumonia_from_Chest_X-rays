{
 "cells": [
  {
   "cell_type": "code",
   "execution_count": 2,
   "metadata": {},
   "outputs": [],
   "source": [
    "import tensorflow as tf\n",
    "import numpy as np\n",
    "import matplotlib.pyplot as plt\n",
    "from pathlib import Path\n",
    "\n",
    "from src.src_utils import descompress_data\n",
    "\n",
    "tf.random.set_seed(1234)"
   ]
  },
  {
   "cell_type": "code",
   "execution_count": 8,
   "metadata": {},
   "outputs": [
    {
     "name": "stdout",
     "output_type": "stream",
     "text": [
      "Descompressing files\n",
      "removing .zip\n"
     ]
    },
    {
     "data": {
      "text/plain": [
       "'Your file is descompressed. Great!!'"
      ]
     },
     "execution_count": 8,
     "metadata": {},
     "output_type": "execute_result"
    }
   ],
   "source": [
    "descompress_data(\"Chest_X_Ray_DataSets.zip\", \"chest_xray\", \"data\")"
   ]
  },
  {
   "cell_type": "code",
   "execution_count": 12,
   "metadata": {},
   "outputs": [
    {
     "data": {
      "text/plain": [
       "['data\\\\chest_xray\\\\train\\\\NORMAL\\\\IM-0115-0001.jpeg',\n",
       " 'data\\\\chest_xray\\\\train\\\\NORMAL\\\\IM-0117-0001.jpeg',\n",
       " 'data\\\\chest_xray\\\\train\\\\NORMAL\\\\IM-0119-0001.jpeg',\n",
       " 'data\\\\chest_xray\\\\train\\\\NORMAL\\\\IM-0122-0001.jpeg',\n",
       " 'data\\\\chest_xray\\\\train\\\\NORMAL\\\\IM-0125-0001.jpeg']"
      ]
     },
     "execution_count": 12,
     "metadata": {},
     "output_type": "execute_result"
    }
   ],
   "source": [
    "train_path = Path(\"data/chest_xray/train/\")\n",
    "test_path = Path(\"data/chest_xray/test/\")\n",
    "val_path = Path(\"data/chest_xray/val\")\n",
    "\n",
    "train_image_paths = list(map(lambda x: str(x), list(train_path.glob(\"*/*\"))))\n",
    "val_image_paths = list(map(lambda x: str(x), list(val_path.glob(\"*/*\"))))\n",
    "\n",
    "train_image_paths[:5]"
   ]
  },
  {
   "cell_type": "code",
   "execution_count": 20,
   "metadata": {},
   "outputs": [
    {
     "data": {
      "text/plain": [
       "(5216, 16)"
      ]
     },
     "execution_count": 20,
     "metadata": {},
     "output_type": "execute_result"
    }
   ],
   "source": [
    "train_length = len(train_image_paths)\n",
    "val_length = len(val_image_paths)\n",
    "train_length, val_length"
   ]
  },
  {
   "cell_type": "code",
   "execution_count": 27,
   "metadata": {},
   "outputs": [
    {
     "name": "stdout",
     "output_type": "stream",
     "text": [
      "[0, 0, 0]\n"
     ]
    }
   ],
   "source": [
    "labels = {\"NORMAL\" : 0 , \"PNEUMONIA\" : 1}\n",
    "invested_labels = {0 : \"NORMAL\", 1 : \"PNEUMONIA\"}\n",
    "\n",
    "\n",
    "def get_labels(path: str) -> int:\n",
    "    return labels[path.split(\"\\\\\")[-2]]\n",
    "\n",
    "train_labels = list(map(lambda x: get_labels(x), train_image_paths))\n",
    "val_lables = list(map(lambda x: get_labels(x), val_image_paths))\n",
    "\n",
    "print(train_labels[:3])"
   ]
  }
 ],
 "metadata": {
  "kernelspec": {
   "display_name": "Python 3",
   "language": "python",
   "name": "python3"
  },
  "language_info": {
   "codemirror_mode": {
    "name": "ipython",
    "version": 3
   },
   "file_extension": ".py",
   "mimetype": "text/x-python",
   "name": "python",
   "nbconvert_exporter": "python",
   "pygments_lexer": "ipython3",
   "version": "3.8.5"
  },
  "toc": {
   "base_numbering": 1,
   "nav_menu": {},
   "number_sections": true,
   "sideBar": true,
   "skip_h1_title": false,
   "title_cell": "Table of Contents",
   "title_sidebar": "Contents",
   "toc_cell": false,
   "toc_position": {},
   "toc_section_display": true,
   "toc_window_display": false
  },
  "varInspector": {
   "cols": {
    "lenName": 16,
    "lenType": 16,
    "lenVar": 40
   },
   "kernels_config": {
    "python": {
     "delete_cmd_postfix": "",
     "delete_cmd_prefix": "del ",
     "library": "var_list.py",
     "varRefreshCmd": "print(var_dic_list())"
    },
    "r": {
     "delete_cmd_postfix": ") ",
     "delete_cmd_prefix": "rm(",
     "library": "var_list.r",
     "varRefreshCmd": "cat(var_dic_list()) "
    }
   },
   "types_to_exclude": [
    "module",
    "function",
    "builtin_function_or_method",
    "instance",
    "_Feature"
   ],
   "window_display": false
  }
 },
 "nbformat": 4,
 "nbformat_minor": 4
}
